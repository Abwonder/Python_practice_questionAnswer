{
 "cells": [
  {
   "cell_type": "markdown",
   "id": "9cef340c",
   "metadata": {},
   "source": [
    "### Practical Questions "
   ]
  },
  {
   "cell_type": "markdown",
   "id": "38ced604",
   "metadata": {},
   "source": [
    "Q1. Write a Python program that defines a function called \"add_numbers\" that takes two arguments (i.e.,\n",
    "numbers) and returns their sum. Within the function, add the two numbers together and return the result\n",
    "using the return statement. Call the function with the values 5 and 6, and print out the returned result.\n",
    "This will result in the addition of 5 and 6, with the output of the program being the sum of these two\n",
    "numbers."
   ]
  },
  {
   "cell_type": "code",
   "execution_count": 5,
   "id": "7bb8cd03",
   "metadata": {},
   "outputs": [
    {
     "name": "stdout",
     "output_type": "stream",
     "text": [
      "Enter the first number: 5\n",
      "Enter the second number: 6\n"
     ]
    },
    {
     "data": {
      "text/plain": [
       "11"
      ]
     },
     "execution_count": 5,
     "metadata": {},
     "output_type": "execute_result"
    }
   ],
   "source": [
    "def add_numbers(x, y):\n",
    "    res = x + y\n",
    "    return res\n",
    "\n",
    "num1 = int(input(\"Enter the first number: \"))\n",
    "num2 = int(input(\"Enter the second number: \"))\n",
    "add_numbers(5, 6)\n"
   ]
  },
  {
   "cell_type": "markdown",
   "id": "c7f38e7a",
   "metadata": {},
   "source": [
    "Q2. Write a Python program that calculates the square root of a given number using a built-in function.\n",
    "Specifically, the program should take an integer or float input from the user, calculate its square root\n",
    "using the 'sqrt()' function from the 'math' module, and print out the result to the user. As an example,\n",
    "calculate the square root of the number 625 using this program, which should output the value of 25."
   ]
  },
  {
   "cell_type": "code",
   "execution_count": 10,
   "id": "ec88a5e6",
   "metadata": {},
   "outputs": [
    {
     "name": "stdout",
     "output_type": "stream",
     "text": [
      "Enter the number to find sqrt: 625\n"
     ]
    },
    {
     "data": {
      "text/plain": [
       "25.0"
      ]
     },
     "execution_count": 10,
     "metadata": {},
     "output_type": "execute_result"
    }
   ],
   "source": [
    "import math\n",
    "\n",
    "def sqrt(y):\n",
    "    result = math.sqrt(y)\n",
    "    return result\n",
    "\n",
    "num_sqrt = float(input(\"Enter the number to find sqrt: \"))\n",
    "sqrt(num_sqrt)"
   ]
  },
  {
   "cell_type": "markdown",
   "id": "e88347de",
   "metadata": {},
   "source": [
    "Q3.Write a program that prints all prime numbers between 0 to 50."
   ]
  },
  {
   "cell_type": "code",
   "execution_count": 97,
   "id": "3c86513e",
   "metadata": {},
   "outputs": [
    {
     "name": "stdout",
     "output_type": "stream",
     "text": [
      "2: a prime number\n",
      "3: a prime number\n",
      "5: a prime number\n",
      "7: a prime number\n",
      "11: a prime number\n",
      "13: a prime number\n",
      "17: a prime number\n",
      "19: a prime number\n",
      "23: a prime number\n",
      "29: a prime number\n",
      "31: a prime number\n",
      "37: a prime number\n",
      "41: a prime number\n",
      "43: a prime number\n",
      "47: a prime number\n",
      "[2, 3, 5, 7, 11, 13, 17, 19, 23, 29, 31, 37, 41, 43, 47]\n",
      "count: 15\n"
     ]
    }
   ],
   "source": [
    "lst = []\n",
    "for number in range(51):\n",
    "    if number >= 2:\n",
    "        if number == 2:\n",
    "            print(\"{}: a prime number\".format(number))\n",
    "            lst.append(number)\n",
    "        else:\n",
    "            for n in range(2,number):\n",
    "                result = number%n\n",
    "#                 print(result)\n",
    "                if result == 0:\n",
    "#                     print(\"{} Not a prime number\".format(number))\n",
    "                    break\n",
    "            else:\n",
    "                print(\"{}: a prime number\".format(number))\n",
    "                lst.append(number)\n",
    "print(lst)\n",
    "print(f\"count: {len(lst)}\")"
   ]
  },
  {
   "cell_type": "markdown",
   "id": "2bed3f48",
   "metadata": {},
   "source": [
    "Q4.How can we swap the values of three variables (let's say a, b, and c) without using a fourth variable?\n",
    "For example, if we have a=5, b=8, and c=9, how can we obtain a=9, b=5, and c=8? The challenge is to\n",
    "perform this operation without using an additional variable to store any of the values during the\n",
    "swapping process."
   ]
  },
  {
   "cell_type": "code",
   "execution_count": 52,
   "id": "2aa804e9",
   "metadata": {},
   "outputs": [],
   "source": [
    "## This can be done by adding up all the number into one variable\n",
    "a=5\n",
    "b=8\n",
    "c=9\n"
   ]
  },
  {
   "cell_type": "code",
   "execution_count": 46,
   "id": "b4524eda",
   "metadata": {},
   "outputs": [],
   "source": [
    "## This can be done by adding up all the number into one variable\n",
    "a = a + b + c  ## here a = 22, b = 8, c=9\n",
    "## subtracting the two other number from the a will give value of a, so we can\n",
    "# point the value to other variable\n",
    "b = a - b - c ## here a = 22, b = 5, c=9\n",
    "c = a - b - c ## here a = 22, b = 5, c=8\n",
    "a = a - b - c ## here a = 9, b = 5, c=8  ## final answer"
   ]
  },
  {
   "cell_type": "code",
   "execution_count": 47,
   "id": "947b4e2d",
   "metadata": {},
   "outputs": [
    {
     "data": {
      "text/plain": [
       "9"
      ]
     },
     "execution_count": 47,
     "metadata": {},
     "output_type": "execute_result"
    }
   ],
   "source": [
    "a"
   ]
  },
  {
   "cell_type": "code",
   "execution_count": 48,
   "id": "bd7e6263",
   "metadata": {},
   "outputs": [
    {
     "data": {
      "text/plain": [
       "5"
      ]
     },
     "execution_count": 48,
     "metadata": {},
     "output_type": "execute_result"
    }
   ],
   "source": [
    "b"
   ]
  },
  {
   "cell_type": "code",
   "execution_count": 49,
   "id": "e7d9a369",
   "metadata": {},
   "outputs": [
    {
     "data": {
      "text/plain": [
       "8"
      ]
     },
     "execution_count": 49,
     "metadata": {},
     "output_type": "execute_result"
    }
   ],
   "source": [
    "c"
   ]
  },
  {
   "cell_type": "markdown",
   "id": "72d43a83",
   "metadata": {},
   "source": [
    "Q5. Can you write a program that determines the nature of a given number (in this case, 87) as being\n",
    "positive, negative, or zero? The program should be designed to take the number as input and perform the\n",
    "necessary calculations to determine if the number is positive (i.e., greater than zero), negative (i.e., less\n",
    "than zero), or zero (i.e., equal to zero). The output of the program should indicate which of these three\n",
    "categories the given number falls into."
   ]
  },
  {
   "cell_type": "code",
   "execution_count": 57,
   "id": "4359b09b",
   "metadata": {},
   "outputs": [
    {
     "name": "stdout",
     "output_type": "stream",
     "text": [
      "Enter the number to check: 84\n",
      "Positive\n"
     ]
    }
   ],
   "source": [
    "#input section\n",
    "number = int(input(\"Enter the number to check: \"))\n",
    "\n",
    "if number == 0:\n",
    "    print(\"Zero\")\n",
    "elif number > 0:\n",
    "    print(\"Positive\")\n",
    "elif number < 0: \n",
    "    print(\"Negative\")"
   ]
  },
  {
   "cell_type": "markdown",
   "id": "9957bb7f",
   "metadata": {},
   "source": [
    "Q6. How can you create a program that determines whether a given number (in this case, 98) is even or\n",
    "odd? The program should be designed to take the number as input and perform the necessary\n",
    "calculations to determine whether it is divisible by two. If the number is divisible by two without leaving a\n",
    "remainder, it is an even number, and if there is a remainder, it is an odd number. The output of the\n",
    "program should indicate whether the given number is even or odd."
   ]
  },
  {
   "cell_type": "code",
   "execution_count": 70,
   "id": "f83821b0",
   "metadata": {},
   "outputs": [
    {
     "name": "stdout",
     "output_type": "stream",
     "text": [
      "Enter the number to check: 98\n",
      "\n",
      "Even\n"
     ]
    }
   ],
   "source": [
    "#input section\n",
    "number = int(input(\"Enter the number to check: \"))\n",
    "\n",
    "if number%2 == 0:\n",
    "    print(\"\\nEven\")\n",
    "else:\n",
    "    print(\"\\nOdd\")"
   ]
  },
  {
   "cell_type": "markdown",
   "id": "4f48ee01",
   "metadata": {},
   "source": [
    "Q7.Write a program for sum of digits.the digits are 76543 and the output should be 25."
   ]
  },
  {
   "cell_type": "code",
   "execution_count": 68,
   "id": "644ea6cd",
   "metadata": {},
   "outputs": [
    {
     "data": {
      "text/plain": [
       "25"
      ]
     },
     "execution_count": 68,
     "metadata": {},
     "output_type": "execute_result"
    }
   ],
   "source": [
    "## code to carryout the operation\n",
    "num = 76543\n",
    "numlist = list(str(num))\n",
    "num_sum = 0\n",
    "\n",
    "for number in numlist:\n",
    "    num_sum += int(number)\n",
    "num_sum"
   ]
  },
  {
   "cell_type": "markdown",
   "id": "a39656f9",
   "metadata": {},
   "source": [
    "Q8.Write a program for reversing the given number 5436 and the output should be 6345."
   ]
  },
  {
   "cell_type": "code",
   "execution_count": 89,
   "id": "d7920341",
   "metadata": {},
   "outputs": [
    {
     "name": "stdout",
     "output_type": "stream",
     "text": [
      "6345\n"
     ]
    }
   ],
   "source": [
    "num = 5436\n",
    "lst = list(str(num))\n",
    "str_ = \"\"\n",
    "for i in range(3, -1, -1):\n",
    "#     print(lst[i])\n",
    "    str_+=lst[i]\n",
    "print(str_)"
   ]
  },
  {
   "cell_type": "markdown",
   "id": "9b294ff5",
   "metadata": {},
   "source": [
    "Q9.Write a program to check if a given number 371 is an Armstrong number?"
   ]
  },
  {
   "cell_type": "code",
   "execution_count": 110,
   "id": "94baa828",
   "metadata": {},
   "outputs": [
    {
     "name": "stdout",
     "output_type": "stream",
     "text": [
      "Enter the number: 371\n",
      "371 is an Armstrong Number\n"
     ]
    }
   ],
   "source": [
    "## Code to check for Armstrong Number!!!\n",
    "## question number 371\n",
    "numb = int(input(\"Enter the number: \"))\n",
    "lnumb = list(str(numb))\n",
    "cube_sum = 0\n",
    "for n in lnumb:\n",
    "#     print(n)\n",
    "    cube_sum += int(n)**3\n",
    "# print(cube_sum)\n",
    "# print(type(cube_sum))\n",
    "\n",
    "if numb == cube_sum:\n",
    "    print(f\"{numb} is an Armstrong Number\")\n",
    "else:\n",
    "    print(\"No it's not!!!\")\n"
   ]
  },
  {
   "cell_type": "markdown",
   "id": "a8e9c5b9",
   "metadata": {},
   "source": [
    "Q10.Write a program the given year is 1996, a leap year."
   ]
  },
  {
   "cell_type": "code",
   "execution_count": 115,
   "id": "26b8acb1",
   "metadata": {},
   "outputs": [
    {
     "name": "stdout",
     "output_type": "stream",
     "text": [
      "Enter the year to check: 2000\n",
      "Leap year\n"
     ]
    }
   ],
   "source": [
    "year = int(input(\"Enter the year to check: \"))\n",
    "\n",
    "if year%4 == 0:\n",
    "    if year%100 == 0:\n",
    "        if year%400 == 0:\n",
    "            print(\"Leap year\")\n",
    "        else:\n",
    "            print(\"Not Leap year\")\n",
    "    else:\n",
    "        print(\"Leap year\")\n",
    "else:\n",
    "    print(\"Not leap year\")\n"
   ]
  },
  {
   "cell_type": "markdown",
   "id": "c2708028",
   "metadata": {},
   "source": [
    "### The End"
   ]
  }
 ],
 "metadata": {
  "kernelspec": {
   "display_name": "Python 3 (ipykernel)",
   "language": "python",
   "name": "python3"
  },
  "language_info": {
   "codemirror_mode": {
    "name": "ipython",
    "version": 3
   },
   "file_extension": ".py",
   "mimetype": "text/x-python",
   "name": "python",
   "nbconvert_exporter": "python",
   "pygments_lexer": "ipython3",
   "version": "3.9.12"
  }
 },
 "nbformat": 4,
 "nbformat_minor": 5
}

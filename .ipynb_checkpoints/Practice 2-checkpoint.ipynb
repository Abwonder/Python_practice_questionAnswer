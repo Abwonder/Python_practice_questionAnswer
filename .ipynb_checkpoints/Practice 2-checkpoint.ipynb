{
 "cells": [
  {
   "cell_type": "markdown",
   "id": "b03b917c",
   "metadata": {},
   "source": [
    "### Practice Project 2"
   ]
  },
  {
   "cell_type": "markdown",
   "id": "199a209e",
   "metadata": {},
   "source": [
    "Q1. Create a list in python using the followings: 2,3,4,5,6,7 with variable ‘a’\n",
    "\n",
    "Add ‘mango to the above list\n",
    "\n",
    "Also add banana, grapes & orange in the list\n",
    "insert apple in the 5th position of a variable ‘a’\n",
    "\n",
    "Remove last item from the list"
   ]
  },
  {
   "cell_type": "code",
   "execution_count": 28,
   "id": "9971186a",
   "metadata": {},
   "outputs": [],
   "source": [
    "a = [2,3,4,5,6,7]\n",
    "b = [\"mango\", \"banana\", \"grapes\", \"orange\"]"
   ]
  },
  {
   "cell_type": "code",
   "execution_count": 29,
   "id": "ea211022",
   "metadata": {},
   "outputs": [],
   "source": [
    "a.extend(b) ### adding the list toether!!!"
   ]
  },
  {
   "cell_type": "code",
   "execution_count": 30,
   "id": "0f465c20",
   "metadata": {},
   "outputs": [],
   "source": [
    "a.insert(4, \"Apple\")"
   ]
  },
  {
   "cell_type": "code",
   "execution_count": 31,
   "id": "bafc2708",
   "metadata": {},
   "outputs": [
    {
     "data": {
      "text/plain": [
       "[2, 3, 4, 5, 'Apple', 6, 7, 'mango', 'banana', 'grapes', 'orange']"
      ]
     },
     "execution_count": 31,
     "metadata": {},
     "output_type": "execute_result"
    }
   ],
   "source": [
    "a"
   ]
  },
  {
   "cell_type": "code",
   "execution_count": 32,
   "id": "10db70f8",
   "metadata": {},
   "outputs": [
    {
     "data": {
      "text/plain": [
       "'orange'"
      ]
     },
     "execution_count": 32,
     "metadata": {},
     "output_type": "execute_result"
    }
   ],
   "source": [
    "a.pop()  ## remove the last element"
   ]
  },
  {
   "cell_type": "code",
   "execution_count": 33,
   "id": "61159d26",
   "metadata": {},
   "outputs": [
    {
     "data": {
      "text/plain": [
       "[2, 3, 4, 5, 'Apple', 6, 7, 'mango', 'banana', 'grapes']"
      ]
     },
     "execution_count": 33,
     "metadata": {},
     "output_type": "execute_result"
    }
   ],
   "source": [
    "a"
   ]
  },
  {
   "cell_type": "markdown",
   "id": "96eaed17",
   "metadata": {},
   "source": [
    "### Question 2\n",
    "\n",
    "Q2.\n",
    "\n",
    "L = [1,2,3,4,5,6,7]\n",
    "\n",
    "Using the above list slice from 1:4"
   ]
  },
  {
   "cell_type": "code",
   "execution_count": 35,
   "id": "2fb1ffd7",
   "metadata": {},
   "outputs": [
    {
     "data": {
      "text/plain": [
       "[1, 2, 3, 4]"
      ]
     },
     "execution_count": 35,
     "metadata": {},
     "output_type": "execute_result"
    }
   ],
   "source": [
    "L = [1,2,3,4,5,6,7]\n",
    "L[:4]"
   ]
  },
  {
   "cell_type": "markdown",
   "id": "b2fb0e49",
   "metadata": {},
   "source": [
    "### Question 3\n",
    "Q3. Reverse the order of given string L = [4,5,6,8,3] Without using reverse() function."
   ]
  },
  {
   "cell_type": "code",
   "execution_count": 40,
   "id": "4e663b23",
   "metadata": {},
   "outputs": [
    {
     "data": {
      "text/plain": [
       "[3, 8, 6, 5, 4]"
      ]
     },
     "execution_count": 40,
     "metadata": {},
     "output_type": "execute_result"
    }
   ],
   "source": [
    "### Reversing the list!!!\n",
    "L = [4,5,6,8,3]\n",
    "L[::-1]"
   ]
  },
  {
   "cell_type": "markdown",
   "id": "d740580b",
   "metadata": {},
   "source": [
    "### Question 4\n",
    "Q4. Use list comprehension to square the given list L=[2,4,7,3,6,8]"
   ]
  },
  {
   "cell_type": "code",
   "execution_count": 41,
   "id": "f80438e5",
   "metadata": {},
   "outputs": [
    {
     "data": {
      "text/plain": [
       "[4, 8, 14, 6, 12, 16]"
      ]
     },
     "execution_count": 41,
     "metadata": {},
     "output_type": "execute_result"
    }
   ],
   "source": [
    "##List comprehension\n",
    "L=[2,4,7,3,6,8]\n",
    "[x*2 for x in L]  ## list comprehension"
   ]
  },
  {
   "cell_type": "markdown",
   "id": "bd8f7c83",
   "metadata": {},
   "source": [
    "### Question 5\n",
    "Q5. Create a function that takes in a tuple of integers and returns the sum of the integers. Test the\n",
    "function with a tuple of your choice."
   ]
  },
  {
   "cell_type": "code",
   "execution_count": 61,
   "id": "d3ccb6a0",
   "metadata": {},
   "outputs": [],
   "source": [
    "def tuple_sum(*args):\n",
    "    sumlist = 0\n",
    "    for num in args:\n",
    "        print(num) ### To check\n",
    "        if type(num) == tuple:\n",
    "            for j in num:\n",
    "                sumlist += j\n",
    "    return sumlist"
   ]
  },
  {
   "cell_type": "code",
   "execution_count": 62,
   "id": "58a8926f",
   "metadata": {},
   "outputs": [
    {
     "name": "stdout",
     "output_type": "stream",
     "text": [
      "(12, 4, 3, 5, 4, 3, 2, 8)\n"
     ]
    },
    {
     "data": {
      "text/plain": [
       "41"
      ]
     },
     "execution_count": 62,
     "metadata": {},
     "output_type": "execute_result"
    }
   ],
   "source": [
    "pm = (12,4,3,5,4,3,2,8)\n",
    "tuple_sum(pm)"
   ]
  },
  {
   "cell_type": "code",
   "execution_count": 48,
   "id": "68b0bd0c",
   "metadata": {},
   "outputs": [
    {
     "name": "stdout",
     "output_type": "stream",
     "text": [
      "<class 'int'>\n",
      "<class 'int'>\n",
      "<class 'int'>\n",
      "<class 'int'>\n",
      "<class 'int'>\n",
      "<class 'int'>\n",
      "<class 'int'>\n",
      "<class 'int'>\n"
     ]
    }
   ],
   "source": [
    "pm = (12,4,3,5,4,3,2,8)\n",
    "for i in pm:\n",
    "    print(type(i))"
   ]
  },
  {
   "cell_type": "markdown",
   "id": "8e8e5224",
   "metadata": {},
   "source": [
    "### Question 6\n",
    "\n",
    "Q6. Create two sets of your favourite fruits, and use the union() method to combine them into a single set.\n",
    "Print the resulting set to the console."
   ]
  },
  {
   "cell_type": "code",
   "execution_count": 63,
   "id": "9fbe9c92",
   "metadata": {},
   "outputs": [
    {
     "name": "stdout",
     "output_type": "stream",
     "text": [
      "{'orange', 'grape', 'apple', 'banana', 'kiwi', 'pear'}\n"
     ]
    }
   ],
   "source": [
    "# Exercise 6\n",
    "fruits1 = {\"apple\", \"banana\", \"pear\"}\n",
    "fruits2 = {\"orange\", \"grape\", \"kiwi\"}\n",
    "combined_fruits = fruits1.union(fruits2)  ## this added the set content together\n",
    "print(combined_fruits)"
   ]
  },
  {
   "cell_type": "markdown",
   "id": "47ae6c80",
   "metadata": {},
   "source": [
    "### Question 7\n",
    "Q7. Create a set of random words, and use the add() method to add a new word to the set. Print the\n",
    "resulting set to the console."
   ]
  },
  {
   "cell_type": "code",
   "execution_count": 64,
   "id": "49196628",
   "metadata": {},
   "outputs": [
    {
     "name": "stdout",
     "output_type": "stream",
     "text": [
      "{'world', 'programming', 'hello', 'python'}\n"
     ]
    }
   ],
   "source": [
    "# Exercise 7\n",
    "words = {\"hello\", \"world\", \"python\"}\n",
    "words.add(\"programming\")\n",
    "print(words)"
   ]
  },
  {
   "cell_type": "code",
   "execution_count": 65,
   "id": "9296e34d",
   "metadata": {},
   "outputs": [
    {
     "ename": "AttributeError",
     "evalue": "'set' object has no attribute 'append'",
     "output_type": "error",
     "traceback": [
      "\u001b[1;31m---------------------------------------------------------------------------\u001b[0m",
      "\u001b[1;31mAttributeError\u001b[0m                            Traceback (most recent call last)",
      "Input \u001b[1;32mIn [65]\u001b[0m, in \u001b[0;36m<cell line: 2>\u001b[1;34m()\u001b[0m\n\u001b[0;32m      1\u001b[0m words \u001b[38;5;241m=\u001b[39m {\u001b[38;5;124m\"\u001b[39m\u001b[38;5;124mhello\u001b[39m\u001b[38;5;124m\"\u001b[39m, \u001b[38;5;124m\"\u001b[39m\u001b[38;5;124mworld\u001b[39m\u001b[38;5;124m\"\u001b[39m, \u001b[38;5;124m\"\u001b[39m\u001b[38;5;124mpython\u001b[39m\u001b[38;5;124m\"\u001b[39m}\n\u001b[1;32m----> 2\u001b[0m \u001b[43mwords\u001b[49m\u001b[38;5;241;43m.\u001b[39;49m\u001b[43mappend\u001b[49m(\u001b[38;5;124m\"\u001b[39m\u001b[38;5;124mprogramming\u001b[39m\u001b[38;5;124m\"\u001b[39m)\n\u001b[0;32m      3\u001b[0m \u001b[38;5;28mprint\u001b[39m(words)\n",
      "\u001b[1;31mAttributeError\u001b[0m: 'set' object has no attribute 'append'"
     ]
    }
   ],
   "source": [
    "words = {\"hello\", \"world\", \"python\"}\n",
    "words.append(\"programming\")   ## set does not have append!!!\n",
    "print(words)  "
   ]
  },
  {
   "cell_type": "markdown",
   "id": "68eddf69",
   "metadata": {},
   "source": [
    "### Question 8\n",
    "Q8. Create a set of your favourite animals, and use the remove() method to remove one animal from the\n",
    "set. Print the resulting set to the console."
   ]
  },
  {
   "cell_type": "code",
   "execution_count": 67,
   "id": "25ddfac7",
   "metadata": {},
   "outputs": [
    {
     "name": "stdout",
     "output_type": "stream",
     "text": [
      "{'dog', 'hamster', 'parrot'}\n"
     ]
    }
   ],
   "source": [
    "# Exercise 8\n",
    "animals = {\"dog\", \"cat\", \"hamster\", \"parrot\"}\n",
    "animals.remove(\"cat\")  ### we remove element by calling it\n",
    "print(animals)"
   ]
  },
  {
   "cell_type": "code",
   "execution_count": 69,
   "id": "48702027",
   "metadata": {},
   "outputs": [],
   "source": [
    "set_number = {2, 3, 4, 7,6,0}\n",
    "set_number.remove(2)"
   ]
  },
  {
   "cell_type": "code",
   "execution_count": 70,
   "id": "43552aea",
   "metadata": {},
   "outputs": [
    {
     "data": {
      "text/plain": [
       "{0, 3, 4, 6, 7}"
      ]
     },
     "execution_count": 70,
     "metadata": {},
     "output_type": "execute_result"
    }
   ],
   "source": [
    "set_number"
   ]
  },
  {
   "cell_type": "code",
   "execution_count": 72,
   "id": "cada10d1",
   "metadata": {},
   "outputs": [
    {
     "data": {
      "text/plain": [
       "{0, 3, 4, 6, 7}"
      ]
     },
     "execution_count": 72,
     "metadata": {},
     "output_type": "execute_result"
    }
   ],
   "source": [
    "set_number = {2, 3, 4, 7,6,0,2,2,2,2,2,}\n",
    "set_number.remove(2)\n",
    "set_number   ### it removes all the 2's"
   ]
  },
  {
   "cell_type": "markdown",
   "id": "882e6b9f",
   "metadata": {},
   "source": [
    "### Question 9\n",
    "\n",
    "Q9. favorite_books = {\"1984\", \"To Kill a Mockingbird\", \"Pride and Prejudice\"}\n",
    "favorite_movies = [\"The Shawshank Redemption\", \"The Godfather\", \"The Dark Knight\"]\n",
    "Use the zip() function to combine the book set and movie list into a list of tuples representing book/\n",
    "movie pairs. Print the resulting list."
   ]
  },
  {
   "cell_type": "code",
   "execution_count": 74,
   "id": "259c63ea",
   "metadata": {},
   "outputs": [],
   "source": [
    "## How to use the zip function\n",
    "favorite_books = {\"1984\", \"To Kill a Mockingbird\", \"Pride and Prejudice\"} \n",
    "favorite_movies = [\"The Shawshank Redemption\", \"The Godfather\", \"The Dark Knight\"]\n",
    "\n",
    "res_zip = zip(favorite_books, favorite_movies)"
   ]
  },
  {
   "cell_type": "code",
   "execution_count": 76,
   "id": "d099de79",
   "metadata": {},
   "outputs": [
    {
     "name": "stdout",
     "output_type": "stream",
     "text": [
      "<zip object at 0x000001CD0A3A4580>\n"
     ]
    }
   ],
   "source": [
    "print(res_zip)   ## as a funtion"
   ]
  },
  {
   "cell_type": "code",
   "execution_count": 77,
   "id": "6703460a",
   "metadata": {},
   "outputs": [
    {
     "data": {
      "text/plain": [
       "[('To Kill a Mockingbird', 'The Shawshank Redemption'),\n",
       " ('1984', 'The Godfather'),\n",
       " ('Pride and Prejudice', 'The Dark Knight')]"
      ]
     },
     "execution_count": 77,
     "metadata": {},
     "output_type": "execute_result"
    }
   ],
   "source": [
    "list(res_zip)  ## result is tuple in list"
   ]
  },
  {
   "cell_type": "markdown",
   "id": "28e49c5f",
   "metadata": {},
   "source": [
    "### Question 10\n",
    "Q10. Write a Python program to find the difference between consecutive numbers in a list.\n"
   ]
  },
  {
   "cell_type": "code",
   "execution_count": 78,
   "id": "55b0499e",
   "metadata": {},
   "outputs": [],
   "source": [
    "def find_diff_consecutive_numbers(lst):\n",
    "    diffs = []\n",
    "    for i in range(1, len(lst)):\n",
    "        diff = lst[i] - lst[i-1]\n",
    "        diffs.append(diff)\n",
    "    return diffs"
   ]
  },
  {
   "cell_type": "code",
   "execution_count": 79,
   "id": "8a799392",
   "metadata": {},
   "outputs": [
    {
     "name": "stdout",
     "output_type": "stream",
     "text": [
      "[4, 3, 6, 4]\n"
     ]
    }
   ],
   "source": [
    "# example usage\n",
    "my_list = [5, 9, 12, 18, 22]\n",
    "diffs = find_diff_consecutive_numbers(my_list)\n",
    "print(diffs) # Output: [4, 3, 6, 4]"
   ]
  },
  {
   "cell_type": "code",
   "execution_count": null,
   "id": "f2c6f606",
   "metadata": {},
   "outputs": [],
   "source": []
  },
  {
   "cell_type": "code",
   "execution_count": null,
   "id": "9199fbdc",
   "metadata": {},
   "outputs": [],
   "source": []
  }
 ],
 "metadata": {
  "kernelspec": {
   "display_name": "Python 3 (ipykernel)",
   "language": "python",
   "name": "python3"
  },
  "language_info": {
   "codemirror_mode": {
    "name": "ipython",
    "version": 3
   },
   "file_extension": ".py",
   "mimetype": "text/x-python",
   "name": "python",
   "nbconvert_exporter": "python",
   "pygments_lexer": "ipython3",
   "version": "3.9.12"
  }
 },
 "nbformat": 4,
 "nbformat_minor": 5
}
